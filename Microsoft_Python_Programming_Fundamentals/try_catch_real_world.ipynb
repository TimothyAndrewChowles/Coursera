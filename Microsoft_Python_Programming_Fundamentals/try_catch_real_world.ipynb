{
 "cells": [
  {
   "cell_type": "code",
   "execution_count": 4,
   "id": "0bcf5ed9-e8cc-4329-8220-749cb3ea2e3c",
   "metadata": {},
   "outputs": [
    {
     "name": "stdout",
     "output_type": "stream",
     "text": [
      "Error: Division by zero!\n"
     ]
    }
   ],
   "source": [
    "try:\n",
    "    result = 10/0\n",
    "except ZeroDivisionError:\n",
    "    print(\"Error: Division by zero!\")"
   ]
  },
  {
   "cell_type": "code",
   "execution_count": 5,
   "id": "5daacc29-7203-4475-b576-dbd6c528074d",
   "metadata": {},
   "outputs": [],
   "source": [
    "###Multi Layer Error"
   ]
  },
  {
   "cell_type": "code",
   "execution_count": 18,
   "id": "1afbc6ff-9ed5-4c67-afe0-d6b894b15407",
   "metadata": {},
   "outputs": [
    {
     "name": "stdin",
     "output_type": "stream",
     "text": [
      "Enter a number:  10\n"
     ]
    },
    {
     "name": "stdout",
     "output_type": "stream",
     "text": [
      "The result is: 1.0\n"
     ]
    }
   ],
   "source": [
    "try:\n",
    "    number = int(input(\"Enter a number: \"))\n",
    "    result = 10 / number\n",
    "    print(f\"The result is: {result}\")\n",
    "\n",
    "except ValueError:\n",
    "    print(\"Invalid input, try another number.\")\n",
    "\n",
    "except ZeroDivisionError:\n",
    "    print(\"CAnt be ZERO!!! Invalid input, try another number.\")\n",
    "    "
   ]
  },
  {
   "cell_type": "code",
   "execution_count": 27,
   "id": "c5a9ce9a-bc31-4c9b-ad9e-8bc0f928bfcb",
   "metadata": {},
   "outputs": [
    {
     "name": "stdout",
     "output_type": "stream",
     "text": [
      "Birth Year cannot be greater than current year, 2025\n"
     ]
    }
   ],
   "source": [
    "def calculate_age(birth_year):\n",
    "    current_year = 2025\n",
    "    if birth_year > current_year:\n",
    "        raise ValueError(f\"Birth Year cannot be greater than current year, {current_year}\")\n",
    "    return current_year - birth_year\n",
    "\n",
    "try:\n",
    "    print(calculate_age(2220))\n",
    "except ValueError as e:\n",
    "    print(e)"
   ]
  },
  {
   "cell_type": "code",
   "execution_count": 32,
   "id": "79f7f662-2c57-495f-b875-66341f678be9",
   "metadata": {},
   "outputs": [
    {
     "name": "stdout",
     "output_type": "stream",
     "text": [
      "File - sample.txt, does not exist\n"
     ]
    }
   ],
   "source": [
    "file_name = \"sample.txt\"\n",
    "\n",
    "try:\n",
    "    #\"with\" tells us that the file will be closed no matter if exception occurs or not, always closes file, context manager. \n",
    "    #\"open\" tells python to open the file, basic funtction in python\n",
    "    #\"r\" tells python to only read, not to write or overwrite.\n",
    "    # as file is a second varaible for us to work with in the try block.\n",
    "    with open(file_name,\"r\") as file: \n",
    "        context = file.read()\n",
    "        print(context)\n",
    "except FileNotFoundError:\n",
    "    print(f\"File - {file_name}, does not exist\")"
   ]
  },
  {
   "cell_type": "code",
   "execution_count": 45,
   "id": "86dbd3a0-351b-45b9-8bb9-db6bd8217539",
   "metadata": {
    "scrolled": true
   },
   "outputs": [
    {
     "data": {
      "text/plain": [
       "3"
      ]
     },
     "execution_count": 45,
     "metadata": {},
     "output_type": "execute_result"
    }
   ],
   "source": [
    "import statistics\n",
    "sample_list = [1,2,3,4,5,'a']\n",
    "\n",
    "sample_list = [x for x in sample_list if type(x) == int]\n",
    "statistics.mean(sample_list)"
   ]
  },
  {
   "cell_type": "code",
   "execution_count": null,
   "id": "b4eface2-8ede-45c1-ac70-c2646499b618",
   "metadata": {},
   "outputs": [],
   "source": []
  },
  {
   "cell_type": "code",
   "execution_count": null,
   "id": "e1de1ac7-e0d7-4e6f-9533-4f141a5b1362",
   "metadata": {},
   "outputs": [],
   "source": []
  }
 ],
 "metadata": {
  "kernelspec": {
   "display_name": "Python 3 (ipykernel)",
   "language": "python",
   "name": "python3"
  },
  "language_info": {
   "codemirror_mode": {
    "name": "ipython",
    "version": 3
   },
   "file_extension": ".py",
   "mimetype": "text/x-python",
   "name": "python",
   "nbconvert_exporter": "python",
   "pygments_lexer": "ipython3",
   "version": "3.13.5"
  }
 },
 "nbformat": 4,
 "nbformat_minor": 5
}
